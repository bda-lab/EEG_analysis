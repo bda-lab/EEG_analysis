{
 "cells": [
  {
   "cell_type": "code",
   "execution_count": null,
   "id": "10a35dce-3493-494a-a3a6-939a44ca6038",
   "metadata": {},
   "outputs": [],
   "source": [
    "import os\n",
    "import numpy as np\n",
    "\n",
    "def split_and_save_npy_files(chunk_size=60):\n",
    "    folder_path = input(\"Enter the path to the folder containing the .npy files: \")\n",
    "\n",
    "    if not os.path.exists(folder_path):\n",
    "        raise ValueError(f\"Folder {folder_path} does not exist.\")\n",
    "\n",
    "    output_folder = os.path.join(folder_path, \"split_data\")\n",
    "    os.makedirs(output_folder, exist_ok=True)\n",
    "\n",
    "    for filename in os.listdir(folder_path):\n",
    "        if filename.endswith('.npy'):\n",
    "\n",
    "            file_path = os.path.join(folder_path, filename)\n",
    "            data = np.load(file_path)\n",
    "\n",
    "            part_num = 1\n",
    "            for i in range(0, len(data), chunk_size):\n",
    "                if i + chunk_size <= len(data):\n",
    "                    chunk = data[i:i + chunk_size]\n",
    "                else:\n",
    "\n",
    "                    last_chunk_size = len(data) - i\n",
    "                    if last_chunk_size < chunk_size:\n",
    "                        start_index = max(0, i - (chunk_size - last_chunk_size))\n",
    "                        chunk = data[start_index:]\n",
    "                \n",
    "\n",
    "                part_filename = f\"{filename[:-4]}_part{part_num}.npy\"  \n",
    "                part_path = os.path.join(output_folder, part_filename)\n",
    "                np.save(part_path, chunk)\n",
    "                \n",
    "                print(f\"Saved {part_filename} with length {len(chunk)}\")\n",
    "                part_num += 1\n",
    "\n",
    "    print(f\"All files processed and saved in {output_folder}.\")\n",
    "\n",
    "split_and_save_npy_files()\n"
   ]
  }
 ],
 "metadata": {
  "kernelspec": {
   "display_name": "tf-metal",
   "language": "python",
   "name": "tf-metal"
  },
  "language_info": {
   "codemirror_mode": {
    "name": "ipython",
    "version": 3
   },
   "file_extension": ".py",
   "mimetype": "text/x-python",
   "name": "python",
   "nbconvert_exporter": "python",
   "pygments_lexer": "ipython3",
   "version": "3.10.15"
  }
 },
 "nbformat": 4,
 "nbformat_minor": 5
}
